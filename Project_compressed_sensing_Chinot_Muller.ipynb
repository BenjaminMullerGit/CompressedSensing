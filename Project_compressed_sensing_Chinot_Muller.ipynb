{
 "cells": [
  {
   "cell_type": "markdown",
   "metadata": {},
   "source": [
    "## Code Python: Compressed Sensing, Chinot.G, Muller.B"
   ]
  },
  {
   "cell_type": "markdown",
   "metadata": {},
   "source": [
    "Let $f$ be a signal of length $N$ supported on a set $T$ (assumption that $f$ is sparse). The goal is to implement the algorithm presented in the article of Candes and Tao. From partial Fourier information $\\hat{f}_{|\\Omega}$ we want to recover the signal $f$ using a simple convex optimization."
   ]
  },
  {
   "cell_type": "code",
   "execution_count": 1,
   "metadata": {
    "collapsed": true
   },
   "outputs": [],
   "source": [
    "import numpy as np\n",
    "import matplotlib.pylab as plt\n",
    "np.random.seed(5)\n",
    "\n",
    "%matplotlib inline"
   ]
  },
  {
   "cell_type": "code",
   "execution_count": 2,
   "metadata": {
    "collapsed": false
   },
   "outputs": [],
   "source": [
    "N = 50 # length of the signal\n",
    "Nt = 30 # number of 0 in f\n",
    "No = 45 # number of fourier coefficient observed\n",
    "\n",
    "O = np.sort(np.random.choice(N-1,No,replace=False))\n",
    "T = np.random.choice(N-1,Nt,replace=False) # index of 0\n",
    "\n",
    "f = np.random.normal(0, 2, size=N)\n",
    "f[T] = 0\n",
    "\n",
    "f_f = np.fft.fft(f) # Fourier transform of f\n",
    "f_f_observed = f_f[O]"
   ]
  },
  {
   "cell_type": "code",
   "execution_count": 3,
   "metadata": {
    "collapsed": false
   },
   "outputs": [
    {
     "data": {
      "text/plain": [
       "<matplotlib.text.Text at 0x105364198>"
      ]
     },
     "execution_count": 3,
     "metadata": {},
     "output_type": "execute_result"
    },
    {
     "data": {
      "image/png": "[encoded data removed]",
      "text/plain": [
       "<matplotlib.figure.Figure at 0x10384cd68>"
      ]
     },
     "metadata": {},
     "output_type": "display_data"
    }
   ],
   "source": [
    "plt.stem(f)\n",
    "title = 'Sparsity of the signal'\n",
    "plt.title(title)"
   ]
  },
  {
   "cell_type": "markdown",
   "metadata": {},
   "source": [
    "The optimization problem allows to recover $f$ from $\\Omega$ and $\\hat{f}_{|\\Omega}$:\n",
    "\n",
    "$$\n",
    "\\begin{align}\n",
    "& \\min_{g \\in C^N}{||g||_1} = \\sum_{t \\in Z_N}|g(t)| \\\\\n",
    "& \\hat{g}_{|\\Omega} = \\hat{f}_{|\\Omega}\n",
    "\\end{align}\n",
    "$$\n",
    "\n",
    "The main theorem of the paper claims:\n",
    "\n",
    "Let $f \\in C^N$ be a discete signal supported on an unknown set T, and choose $\\Omega$ of size $|\\Omega| = N_{\\omega}$ uniformaly at random. For a given accuracy parameter M if:\n",
    "$$\n",
    "\\begin{align}\n",
    "|T| \\leq C_M.(log(N))^{-1} |\\Omega|\n",
    "\\end{align}\n",
    "$$ \n",
    "then with probability at least $1-O(N^{-M})$, the minimizer of the optimization problem is unique and equal to f \n",
    "\n",
    "It can be shown that $C_M$ is of the form:\n",
    "\n",
    "$$\n",
    "\\begin{align}\n",
    "& C_M = \\frac{1-\\tau}{22.6(M+1)}(1+o(1)) \\\\\n",
    "& \\tau = \\frac{N_{\\omega}}{N}\n",
    "\\end{align}\n",
    "$$"
   ]
  },
  {
   "cell_type": "markdown",
   "metadata": {
    "collapsed": true
   },
   "source": [
    "The previous optimization problem seems to be simple to solve. However we need to rewrite it in order to have a simple linear programing. To begin, one can remark that a complex is equal to an other complex if and only if the real part and the imaginary one are the same. The formula of the day is hence: \n",
    "$$\n",
    "\\begin{align}\n",
    "& \\exp(iwt) = \\cos(wt) + i \\sin(wt)\\\\\n",
    "& \\hat{f}(\\omega) = \\sum_{t=0}^{N-1} f(t) \\bigg( \\cos(\\frac{-2 \\pi \\omega t}{N}) + i \\sin(\\frac{-2 \\pi \\omega t}{N}) \\bigg)\n",
    "\\end{align}\n",
    "$$\n",
    "\n",
    "The problem is: \n",
    "\n",
    "$$\n",
    "\\begin{align}\n",
    "& \\arg \\min_{g \\in \\mathbb{R}^N} ||g||_1 \\\\\n",
    "& \\forall \\omega \\in \\Omega \\hspace{0.3cm} Re(\\hat{f}(\\omega)) =  \\sum_{t=0}^{N-1} f(t) \\cos(\\frac{-2 \\pi \\omega t}{N}) \\hspace{0.5cm}  Im(\\hat{f}(\\omega)) =  \\sum_{t=0}^{N-1} f(t) \\sin(\\frac{-2 \\pi \\omega t}{N})\n",
    "\\end{align}\n",
    "$$\n",
    "\n",
    "Let:\n",
    "\n",
    "$$\n",
    "y_1 = \n",
    "\\begin{pmatrix}\n",
    "Re(\\hat{f}(\\omega_1)) \\\\\n",
    ". \\\\\n",
    ". \\\\\n",
    ". \\\\\n",
    "Re(\\hat{f}(\\omega_{|\\Omega|}))\n",
    "\\end{pmatrix}\n",
    "$$\n",
    "\n",
    "$$\n",
    "y_2 = \n",
    "\\begin{pmatrix}\n",
    "Im(\\hat{f}(\\omega_1)) \\\\\n",
    ". \\\\\n",
    ". \\\\\n",
    ". \\\\\n",
    "Im(\\hat{f}(\\omega_{|\\Omega|}))\n",
    "\\end{pmatrix}\n",
    "$$\n",
    "\n",
    "$$\n",
    "(|\\Omega| x N) \\hspace{0.3cm} A_1 = \n",
    "\\begin{pmatrix}\n",
    "\\cos(\\frac{-2 \\pi \\omega_1 t_1}{N}) & . & \\cos(\\frac{-2 \\pi \\omega_1 t_N}{N}) \\\\\n",
    ". & . & .\\\\\n",
    ". & . & .\\\\\n",
    ". & . & .\\\\\n",
    "\\cos(\\frac{-2 \\pi \\omega_{|\\Omega|} t_1}{N}) & . & \\cos(\\frac{-2 \\pi \\omega_{|\\Omega|} t_N}{N}) \\\\\n",
    "\\end{pmatrix}\n",
    "$$\n",
    "\n",
    "$$\n",
    "(|\\Omega| x N) \\hspace{0.3cm} A_2 = \n",
    "\\begin{pmatrix}\n",
    "\\sin(\\frac{-2 \\pi \\omega_1 t_1}{N}) & . & \\sin(\\frac{-2 \\pi \\omega_1 t_N}{N}) \\\\\n",
    ". & . & .\\\\\n",
    ". & . & .\\\\\n",
    ". & . & .\\\\\n",
    "\\sin(\\frac{-2 \\pi \\omega_{|\\Omega|} t_1}{N}) & . & \\sin(\\frac{-2 \\pi \\omega_{|\\Omega|} t_N}{N}) \\\\\n",
    "\\end{pmatrix}\n",
    "$$\n",
    "We can rewrite the problem as:\n",
    "$$\n",
    "\\begin{align}\n",
    "& \\arg \\min_{g_i^+ g_i^- \\in \\mathbb{R}^{2N}} \\sum_{i=1}^{N-1} g_i^+ - g_i^- \\\\\n",
    "& [A_1 | -A_1] = [g^+, g^-]^T \\\\\n",
    "& [A_2 | -A_2] = [g^+, g^-]^T \\\\\n",
    "& [g^+, g^-]^T \\geq 0 \\\\\n",
    "&  \\Leftrightarrow \\arg \\min_{g_i^+ g_i^- \\in \\mathbb{R}^{2N}} \\sum_{i=1}^{N-1} g_i^+ - g_i^- \\\\\n",
    "& \\begin{pmatrix} \n",
    "    A_1 & -A_1 \\\\\n",
    "    A_2 & -A_2 \\\\\n",
    "   \\end{pmatrix}\n",
    "   \\begin{pmatrix} \n",
    "    g^+ \\\\\n",
    "    g^- \\\\\n",
    "   \\end{pmatrix} = \n",
    "   \\begin{pmatrix} \n",
    "    y_1 \\\\\n",
    "    y_2 \\\\\n",
    "   \\end{pmatrix}\\\\\n",
    "&[g^+, g^-]^T \\geq 0  \n",
    "\\end{align}\n",
    "$$\n",
    "\n",
    "There is a problem when we implement that algorithm with cvxopt because the matrix is a low rank matrix. To tackle that problem we use the Douglas-Rachford algorithm which minimizes functionals of the form:\n",
    "$$ \\min_{x} f(x) + g(x) $$\n",
    "\n",
    "Let $$A = \\begin{pmatrix} \n",
    "    A_1 \\\\\n",
    "    A_2 \\\\\n",
    "   \\end{pmatrix}$$\n",
    "And $$y = \\begin{pmatrix} \n",
    "    y_1 \\\\\n",
    "    y_2 \\\\\n",
    "   \\end{pmatrix}$$\n",
    "\n",
    "The Douglas-Rachford algorithm takes an arbitrary element $s^{(0)}$, a parameter $\\gamma>0$, a relaxation parameter $0<\\rho<2$ and iterates, for $k=1,2,\\ldots$\n",
    "$$\n",
    "\\left|\\begin{array}{l}\n",
    "x^{(k)} = \\mathrm{prox}_{\\gamma f} (s^{(k-1)} )\\\\\n",
    "z^{(k)} = \\text{prox}_{\\gamma g}( 2x^{(k)}-s^{(k-1)})\\\\\n",
    "s^{(k)} = s^{(k-1)}+\\rho\\big(z^{(k)}-x^{(k)}\\big).\n",
    "\\end{array}\\right.\n",
    "$$\n",
    "\n",
    "In our case it easy to implement. Let $f$ be the $l_1$ norm and $g$ an indicator function:\n",
    "$$\n",
    "I_{C}(x) = \n",
    "\\left|\\begin{array}{l}\n",
    "x \\text{  if  } x \\in C\\\\\n",
    "+\\infty \\text{   otherwise}\n",
    "\\end{array}\\right.\n",
    "$$\n",
    "In the problem we have $C = \\lbrace x: Ax = y \\rbrace$\n",
    "The proximal operator of the $l_1$ norm is the soft-thresholding operator:\n",
    "\n",
    "$$ \\text{prox}_{\\gamma ||.||_{1}}(x) = \\max( 0, 1-\\frac{\\gamma}{|x_n|} ) x_n. $$\n",
    "\n",
    "The proximal operator of indicator function is the projection onto $C$: \n",
    "\n",
    "$$ \\mathrm{prox}_{I_C}(x)=\\mathrm{prox}_{\\iota_\\Omega}(x)=P_\\Omega(x)  = x + A^* (A A^*)^{-1} (y-Ax). $$"
   ]
  },
  {
   "cell_type": "code",
   "execution_count": 4,
   "metadata": {
    "collapsed": false
   },
   "outputs": [],
   "source": [
    "def A_construction(N,O,type_A = 'cos'):\n",
    "    A = np.zeros((O.shape[0],N))\n",
    "    for i in range(O.shape[0]):\n",
    "        for j in range(N):\n",
    "            if type_A == 'cos':\n",
    "                A[i,j] = np.cos(-2*np.pi*O[i]*j/N)\n",
    "            else:\n",
    "                A[i,j] = np.sin(-2*np.pi*O[i]*j/N)\n",
    "    return(A)"
   ]
  },
  {
   "cell_type": "code",
   "execution_count": 5,
   "metadata": {
    "collapsed": true
   },
   "outputs": [],
   "source": [
    "A_1 = A_construction(N,O,type_A = 'cos')\n",
    "A_2 = A_construction(N,O,type_A = 'sin')   \n",
    "A = np.concatenate([A_1,A_2])\n",
    "y = np.concatenate([f_f_observed.real,f_f_observed.imag])"
   ]
  },
  {
   "cell_type": "code",
   "execution_count": 6,
   "metadata": {
    "collapsed": false
   },
   "outputs": [],
   "source": [
    "def prox_lasso(x, gamma=1.):\n",
    "    return np.maximum(0,(1-gamma/np.absolute(x)))*x\n",
    "\n",
    "def prox_ind_lin_cnstr(x, y, A):\n",
    "    pA = np.linalg.pinv(A)\n",
    "    return x + pA.dot(y-A.dot(x))\n",
    "\n",
    "gamma = 1\n",
    "rho = 0.1\n",
    "n_iter = 500\n",
    "\n",
    "s = np.random.normal(0,5,N)\n",
    "objective = []\n",
    "\n",
    "for iter in range(n_iter):\n",
    "    x = prox_lasso(s, gamma)\n",
    "    z = prox_ind_lin_cnstr(2*x-s, y, A)\n",
    "    s = s + rho*(z-x)\n",
    "    objective.append(np.linalg.norm(x, ord=1))"
   ]
  },
  {
   "cell_type": "code",
   "execution_count": 7,
   "metadata": {
    "collapsed": false
   },
   "outputs": [
    {
     "data": {
      "text/plain": [
       "[<matplotlib.lines.Line2D at 0x1055a5978>]"
      ]
     },
     "execution_count": 7,
     "metadata": {},
     "output_type": "execute_result"
    },
    {
     "data": {
      "image/png": "[encoded data removed]",
      "text/plain": [
       "<matplotlib.figure.Figure at 0x1054d00f0>"
      ]
     },
     "metadata": {},
     "output_type": "display_data"
    }
   ],
   "source": [
    "plt.plot(objective)"
   ]
  },
  {
   "cell_type": "code",
   "execution_count": 8,
   "metadata": {
    "collapsed": false
   },
   "outputs": [
    {
     "name": "stdout",
     "output_type": "stream",
     "text": [
      "||f_recover - f||=  5.01352059349e-14\n"
     ]
    },
    {
     "data": {
      "image/png": "[encoded data removed]",
      "text/plain": [
       "<matplotlib.figure.Figure at 0x10547b6d8>"
      ]
     },
     "metadata": {},
     "output_type": "display_data"
    }
   ],
   "source": [
    "fig, (fig1,fig2) = plt.subplots(1,2,figsize=(10,5)) \n",
    "\n",
    "fig1.stem(x)\n",
    "fig1.set_title('Recovered Signal')\n",
    "fig2.stem(f)\n",
    "fig2.set_title('Initial Signal')\n",
    "\n",
    "print('||f_recover - f||= ', np.linalg.norm(f-x))"
   ]
  },
  {
   "cell_type": "markdown",
   "metadata": {},
   "source": [
    "## Phase Transition plot"
   ]
  },
  {
   "cell_type": "markdown",
   "metadata": {},
   "source": [
    "In this part we aim to show when it is possible to recover a signal from partial Fourier coefficients. The conditions we have presented in the report is the following:\n",
    "$$\n",
    "\\begin{align*}\n",
    "|\\Omega| \\geq C_M \\log(N) . |T| \n",
    "\\end{align*}\n",
    "$$\n",
    "To highlight this inequality we realize a phase transition graph. We vary the number of Fourier coefficients observed and the number of $0$ in th signal $f$. "
   ]
  },
  {
   "cell_type": "code",
   "execution_count": 9,
   "metadata": {
    "collapsed": false
   },
   "outputs": [],
   "source": [
    "def Douglas_Rachford(A, y, gamma = 0.5, rho = 1, n_iter = 100):\n",
    "    \n",
    "    N = A.shape[1]\n",
    "    gamma = 0.5\n",
    "    rho = 0.5\n",
    "    n_iter = 50\n",
    "\n",
    "    s = np.random.normal(0,3,N)\n",
    "    objective = []\n",
    "\n",
    "    for iter in range(n_iter):\n",
    "        x = prox_lasso(s, gamma)\n",
    "        z = prox_ind_lin_cnstr(2*x-s, y, A)\n",
    "        s = s + rho*(z-x)\n",
    "    \n",
    "    return(x)\n",
    "\n",
    "\n",
    "def phase_matrice(N, gamma = 0.5, rho = 1, n_iter = 100, nb_test = 20, level= 10):\n",
    "    \n",
    "    mat_P = np.zeros((N-1,N))\n",
    "    \n",
    "    for nb_obs in range(1,N):\n",
    "\n",
    "        if nb_obs % 10 == 0:\n",
    "            print('Nb Observed Fourier Coefficients =',nb_obs)\n",
    "            \n",
    "        for sparsity in range(1,N-1):\n",
    "            \n",
    "            nb_success = 0\n",
    "            for test in range(nb_test):\n",
    "                        \n",
    "                O = np.sort(np.random.choice(N-1,nb_obs,replace=False))\n",
    "                T = np.random.choice(N-1,sparsity,replace=False) \n",
    "                f = np.random.normal(0, 2, size=N)\n",
    "                f[T] = 0\n",
    "\n",
    "                f_f = np.fft.fft(f) \n",
    "                f_f_observed = f_f[O]\n",
    "\n",
    "                A_1 = A_construction(N,O,type_A = 'cos')\n",
    "                A_2 = A_construction(N,O,type_A = 'sin')   \n",
    "                A = np.concatenate([A_1,A_2])\n",
    "                y = np.concatenate([f_f_observed.real,f_f_observed.imag])\n",
    "\n",
    "                f_restored = Douglas_Rachford(A, y, gamma, rho, n_iter)\n",
    "                \n",
    "                if np.linalg.norm(f - f_restored, ord=1) < level:\n",
    "                    nb_success = nb_success + 1\n",
    "                \n",
    "            mat_P[nb_obs-1,sparsity] = nb_success\n",
    "            \n",
    "    return(mat_P)"
   ]
  },
  {
   "cell_type": "code",
   "execution_count": 10,
   "metadata": {
    "collapsed": false
   },
   "outputs": [
    {
     "name": "stdout",
     "output_type": "stream",
     "text": [
      "Nb Observed Fourier Coefficients = 10\n",
      "Nb Observed Fourier Coefficients = 20\n",
      "Nb Observed Fourier Coefficients = 30\n"
     ]
    }
   ],
   "source": [
    "mat_p = phase_matrice(40, gamma = 0.5, rho = 0.1, n_iter = 80, nb_test = 10, level = 0.1)"
   ]
  },
  {
   "cell_type": "code",
   "execution_count": 11,
   "metadata": {
    "collapsed": false
   },
   "outputs": [
    {
     "data": {
      "text/plain": [
       "<matplotlib.text.Text at 0x105a38470>"
      ]
     },
     "execution_count": 11,
     "metadata": {},
     "output_type": "execute_result"
    },
    {
     "data": {
      "image/png": "[encoded data removed]",
      "text/plain": [
       "<matplotlib.figure.Figure at 0x1055bada0>"
      ]
     },
     "metadata": {},
     "output_type": "display_data"
    }
   ],
   "source": [
    "plt.imshow(mat_p)\n",
    "titre = \"Phase transition graph\"\n",
    "plt.title(titre)\n",
    "plt.xlabel('sparsity')\n",
    "plt.ylabel('number of measurements')"
   ]
  }
 ],
 "metadata": {
  "anaconda-cloud": {},
  "kernelspec": {
   "display_name": "Python [conda env:py35]",
   "language": "python",
   "name": "conda-env-py35-py"
  },
  "language_info": {
   "codemirror_mode": {
    "name": "ipython",
    "version": 3
   },
   "file_extension": ".py",
   "mimetype": "text/x-python",
   "name": "python",
   "nbconvert_exporter": "python",
   "pygments_lexer": "ipython3",
   "version": "3.5.2"
  }
 },
 "nbformat": 4,
 "nbformat_minor": 2
}
